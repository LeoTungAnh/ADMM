{
 "cells": [
  {
   "cell_type": "code",
   "execution_count": 165,
   "metadata": {},
   "outputs": [
    {
     "name": "stderr",
     "output_type": "stream",
     "text": [
      "/Users/charlie/Library/Python/3.7/lib/python/site-packages/ipykernel_launcher.py:8: UserWarning: To copy construct from a tensor, it is recommended to use sourceTensor.clone().detach() or sourceTensor.clone().detach().requires_grad_(True), rather than torch.tensor(sourceTensor).\n",
      "  \n",
      "/Users/charlie/Library/Python/3.7/lib/python/site-packages/ipykernel_launcher.py:9: UserWarning: To copy construct from a tensor, it is recommended to use sourceTensor.clone().detach() or sourceTensor.clone().detach().requires_grad_(True), rather than torch.tensor(sourceTensor).\n",
      "  if __name__ == '__main__':\n"
     ]
    }
   ],
   "source": [
    "import torch\n",
    "#T  = X * U \n",
    "# We are finding U using torch\n",
    "# let say X is data 100 sample and 50 dimentions\n",
    "torch.manual_seed(0)\n",
    "d = 50 # data dimention\n",
    "r = 2 # pca dimention\n",
    "X =  torch.tensor(torch.rand(100, d)) # Local Data\n",
    "U = torch.tensor(torch.rand(d, r),requires_grad=True) # PCA parameter\n",
    "I = torch.ones(d, d)"
   ]
  },
  {
   "cell_type": "code",
   "execution_count": 181,
   "metadata": {},
   "outputs": [
    {
     "name": "stdout",
     "output_type": "stream",
     "text": [
      "tensor([[-56903.6445, -48494.0625],\n",
      "        [-69675.1406, -59468.7852],\n",
      "        [-76105.6641, -64955.4766],\n",
      "        [-80627.3438, -68988.2031],\n",
      "        [-47253.4336, -40074.4805]]) torch.Size([50, 2])\n"
     ]
    }
   ],
   "source": [
    "if(U.grad is not None):\n",
    "    U.grad.data.zero_()\n",
    "Loss_FunTion = torch.norm(torch.mm((I - torch.mm(U, U.T)),X.T))**2\n",
    "Loss_FunTion.backward()\n",
    "print(U.grad.data[0:5], U.grad.data.shape)"
   ]
  },
  {
   "cell_type": "code",
   "execution_count": 177,
   "metadata": {},
   "outputs": [
    {
     "name": "stdout",
     "output_type": "stream",
     "text": [
      "tensor([[-56903.6445, -48494.0586],\n",
      "        [-69675.1406, -59468.7852],\n",
      "        [-76105.6641, -64955.4766],\n",
      "        [-80627.3438, -68988.1953],\n",
      "        [-47253.4336, -40074.4805]]) torch.Size([50, 2])\n"
     ]
    }
   ],
   "source": [
    "if(U.grad is not None):\n",
    "    U.grad.data.zero_()\n",
    "Loss_FunTion2 = torch.norm(torch.mm(X,(I - torch.mm(U, U.T))))**2\n",
    "Loss_FunTion2.backward()\n",
    "print(U.grad.data[0:5], U.grad.data.shape)"
   ]
  },
  {
   "cell_type": "code",
   "execution_count": 174,
   "metadata": {},
   "outputs": [
    {
     "name": "stdout",
     "output_type": "stream",
     "text": [
      "torch.Size([50, 100])\n",
      "torch.Size([2, 100])\n"
     ]
    }
   ],
   "source": [
    "if(U.grad is not None):\n",
    "    U.grad.data.zero_()\n",
    "A = torch.mm((I - torch.mm(U, U.T)),X.T)\n",
    "C = torch.mm(U.T,X.T)\n",
    "print(A.shape)\n",
    "print(C.shape)"
   ]
  },
  {
   "cell_type": "code",
   "execution_count": 179,
   "metadata": {},
   "outputs": [
    {
     "name": "stdout",
     "output_type": "stream",
     "text": [
      "tensor([[ -54549.1562,  -47118.9141],\n",
      "        [ -84184.5234,  -72589.6875],\n",
      "        [ -95432.8359,  -82263.6406],\n",
      "        [-109321.9375,  -94297.5859],\n",
      "        [ -37640.4961,  -32421.2852]], grad_fn=<SliceBackward>)\n"
     ]
    }
   ],
   "source": [
    "solution = -4 * torch.mm(A, C.T)\n",
    "print(solution[0:5])"
   ]
  },
  {
   "cell_type": "code",
   "execution_count": null,
   "metadata": {},
   "outputs": [],
   "source": []
  },
  {
   "cell_type": "code",
   "execution_count": null,
   "metadata": {},
   "outputs": [],
   "source": []
  }
 ],
 "metadata": {
  "kernelspec": {
   "display_name": "Python 3",
   "language": "python",
   "name": "python3"
  },
  "language_info": {
   "codemirror_mode": {
    "name": "ipython",
    "version": 3
   },
   "file_extension": ".py",
   "mimetype": "text/x-python",
   "name": "python",
   "nbconvert_exporter": "python",
   "pygments_lexer": "ipython3",
   "version": "3.7.9"
  }
 },
 "nbformat": 4,
 "nbformat_minor": 4
}
