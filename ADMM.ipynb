{
 "cells": [
  {
   "cell_type": "code",
   "execution_count": 1,
   "source": [
    "import torch\n",
    "import os\n",
    "import numpy as np\n",
    "from FLAlgorithms.servers.serverADMM import serverADMM"
   ],
   "outputs": [
    {
     "output_type": "error",
     "ename": "ImportError",
     "evalue": "cannot import name 'serverADMM'",
     "traceback": [
      "\u001b[1;31m---------------------------------------------------------------------------\u001b[0m",
      "\u001b[1;31mImportError\u001b[0m                               Traceback (most recent call last)",
      "\u001b[1;32m<ipython-input-1-2e6340418055>\u001b[0m in \u001b[0;36m<module>\u001b[1;34m\u001b[0m\n\u001b[0;32m      2\u001b[0m \u001b[1;32mimport\u001b[0m \u001b[0mos\u001b[0m\u001b[1;33m\u001b[0m\u001b[0m\n\u001b[0;32m      3\u001b[0m \u001b[1;32mimport\u001b[0m \u001b[0mnumpy\u001b[0m \u001b[1;32mas\u001b[0m \u001b[0mnp\u001b[0m\u001b[1;33m\u001b[0m\u001b[0m\n\u001b[1;32m----> 4\u001b[1;33m \u001b[1;32mfrom\u001b[0m \u001b[0mFLAlgorithms\u001b[0m\u001b[1;33m.\u001b[0m\u001b[0mservers\u001b[0m\u001b[1;33m.\u001b[0m\u001b[0mserverADMM\u001b[0m \u001b[1;32mimport\u001b[0m \u001b[0mserverADMM\u001b[0m\u001b[1;33m\u001b[0m\u001b[0m\n\u001b[0m",
      "\u001b[1;31mImportError\u001b[0m: cannot import name 'serverADMM'"
     ]
    }
   ],
   "metadata": {}
  },
  {
   "cell_type": "markdown",
   "source": [
    "# generate a number of clients"
   ],
   "metadata": {}
  },
  {
   "cell_type": "code",
   "execution_count": null,
   "source": [
    "#define ADMM class\n",
    "class ADMM(serverADMM):\n",
    "     def __init__(self, device, dataset, batch_size, learning_rate, L_k, num_glob_iters, local_epochs, num_users, 1):\n",
    "        total_users = len(dataset[0][0]) \n",
    "        for i in range(total_users):\n",
    "            id, train , test = read_user_data(i, dataset[0], dataset[1])\n",
    "            user = UserADMM(device, id, train, test, model, batch_size, learning_rate, L_k, local_epochs)\n",
    "            self.users.append(user)\n",
    "            self.total_train_samples += user.train_samples\n",
    "            \n",
    "        print(\"Number of users / total users:\",num_users, \" / \" ,total_users)\n",
    "        print(\"Finished creating FedAvg server.\")"
   ],
   "outputs": [
    {
     "output_type": "error",
     "ename": "SyntaxError",
     "evalue": "invalid syntax (<ipython-input-6-afdf4ce2e961>, line 3)",
     "traceback": [
      "\u001b[0;36m  File \u001b[0;32m\"<ipython-input-6-afdf4ce2e961>\"\u001b[0;36m, line \u001b[0;32m3\u001b[0m\n\u001b[0;31m    def __init__(self, device, dataset, batch_size, learning_rate, L_k, num_glob_iters, local_epochs, num_users, 1):\u001b[0m\n\u001b[0m                                                                                                                 ^\u001b[0m\n\u001b[0;31mSyntaxError\u001b[0m\u001b[0;31m:\u001b[0m invalid syntax\n"
     ]
    }
   ],
   "metadata": {}
  },
  {
   "cell_type": "code",
   "execution_count": null,
   "source": [],
   "outputs": [],
   "metadata": {}
  },
  {
   "cell_type": "code",
   "execution_count": null,
   "source": [
    "import torch\r\n",
    "#T  = X * U \r\n",
    "# We are finding U using torch\r\n",
    "# let say X is data 100 sample and 50 dimentions\r\n",
    "torch.manual_seed(0)\r\n",
    "d = 50 # data dimention\r\n",
    "r = 2 # pca dimention\r\n",
    "X =  torch.tensor(torch.rand(100, d)) # Local Data\r\n",
    "U = torch.tensor(torch.rand(d, r),requires_grad=True) # PCA parameter\r\n",
    "I = torch.ones(d, d)"
   ],
   "outputs": [
    {
     "output_type": "stream",
     "name": "stderr",
     "text": [
      "/Users/charlie/Library/Python/3.7/lib/python/site-packages/ipykernel_launcher.py:8: UserWarning: To copy construct from a tensor, it is recommended to use sourceTensor.clone().detach() or sourceTensor.clone().detach().requires_grad_(True), rather than torch.tensor(sourceTensor).\n",
      "  \n",
      "/Users/charlie/Library/Python/3.7/lib/python/site-packages/ipykernel_launcher.py:9: UserWarning: To copy construct from a tensor, it is recommended to use sourceTensor.clone().detach() or sourceTensor.clone().detach().requires_grad_(True), rather than torch.tensor(sourceTensor).\n",
      "  if __name__ == '__main__':\n"
     ]
    }
   ],
   "metadata": {}
  },
  {
   "cell_type": "code",
   "execution_count": null,
   "source": [],
   "outputs": [],
   "metadata": {}
  },
  {
   "cell_type": "code",
   "execution_count": null,
   "source": [
    "if(U.grad is not None):\r\n",
    "    U.grad.data.zero_()\r\n",
    "Loss_FunTion = torch.norm(torch.mm((I - torch.mm(U, U.T)),X.T))**2\r\n",
    "Loss_FunTion.backward()\r\n",
    "print(U.grad.data[0:5], U.grad.data.shape)"
   ],
   "outputs": [
    {
     "output_type": "stream",
     "name": "stdout",
     "text": [
      "tensor([[-56903.6445, -48494.0625],\n",
      "        [-69675.1406, -59468.7852],\n",
      "        [-76105.6641, -64955.4766],\n",
      "        [-80627.3438, -68988.2031],\n",
      "        [-47253.4336, -40074.4805]]) torch.Size([50, 2])\n"
     ]
    }
   ],
   "metadata": {}
  },
  {
   "cell_type": "code",
   "execution_count": null,
   "source": [
    "if(U.grad is not None):\r\n",
    "    U.grad.data.zero_()\r\n",
    "Loss_FunTion2 = torch.norm(torch.mm(X,(I - torch.mm(U, U.T))))**2\r\n",
    "Loss_FunTion2.backward()\r\n",
    "print(U.grad.data[0:5], U.grad.data.shape)"
   ],
   "outputs": [
    {
     "output_type": "stream",
     "name": "stdout",
     "text": [
      "tensor([[-56903.6445, -48494.0586],\n",
      "        [-69675.1406, -59468.7852],\n",
      "        [-76105.6641, -64955.4766],\n",
      "        [-80627.3438, -68988.1953],\n",
      "        [-47253.4336, -40074.4805]]) torch.Size([50, 2])\n"
     ]
    }
   ],
   "metadata": {}
  },
  {
   "cell_type": "code",
   "execution_count": null,
   "source": [
    "if(U.grad is not None):\r\n",
    "    U.grad.data.zero_()\r\n",
    "A = torch.mm((I - torch.mm(U, U.T)),X.T)\r\n",
    "C = torch.mm(U.T,X.T)\r\n",
    "print(A.shape)\r\n",
    "print(C.shape)"
   ],
   "outputs": [
    {
     "output_type": "stream",
     "name": "stdout",
     "text": [
      "torch.Size([50, 100])\n",
      "torch.Size([2, 100])\n"
     ]
    }
   ],
   "metadata": {}
  }
 ],
 "metadata": {
  "kernelspec": {
   "name": "python3",
   "display_name": "Python 3.6.2 64-bit"
  },
  "language_info": {
   "codemirror_mode": {
    "name": "ipython",
    "version": 3
   },
   "file_extension": ".py",
   "mimetype": "text/x-python",
   "name": "python",
   "nbconvert_exporter": "python",
   "pygments_lexer": "ipython3",
   "version": "3.6.2"
  },
  "interpreter": {
   "hash": "67cae935aea54d38fb7ad7064920bda508a20d6b1228d5dda5677d6f5832a9cc"
  }
 },
 "nbformat": 4,
 "nbformat_minor": 4
}